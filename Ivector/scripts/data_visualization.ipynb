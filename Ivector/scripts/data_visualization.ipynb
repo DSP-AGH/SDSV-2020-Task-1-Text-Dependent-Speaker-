{
 "cells": [
  {
   "cell_type": "code",
   "execution_count": 30,
   "metadata": {},
   "outputs": [],
   "source": [
    "import pandas as pd\n",
    "import numpy as np"
   ]
  },
  {
   "cell_type": "code",
   "execution_count": 33,
   "metadata": {},
   "outputs": [
    {
     "name": "stdout",
     "output_type": "stream",
     "text": [
      "          model-id  phrase-id enroll-file-id1 enroll-file-id2 enroll-file-id3\n",
      "0      model_00000         10      enr_031274      enr_020372      enr_028267\n",
      "1      model_00001          6      enr_007194      enr_033141      enr_004688\n",
      "2      model_00002          2      enr_036941      enr_001239      enr_031894\n",
      "3      model_00003         10      enr_026577      enr_027839      enr_002903\n",
      "4      model_00004          4      enr_018294      enr_034330      enr_018025\n",
      "...            ...        ...             ...             ...             ...\n",
      "12399  model_12399         10      enr_012482      enr_000582      enr_008891\n",
      "12400  model_12400          3      enr_019575      enr_006212      enr_029203\n",
      "12401  model_12401          7      enr_000006      enr_031386      enr_021080\n",
      "12402  model_12402          6      enr_022040      enr_011842      enr_013099\n",
      "12403  model_12403          3      enr_008557      enr_011187      enr_011841\n",
      "\n",
      "[12404 rows x 5 columns]\n",
      "[['model_00000' 10 'enr_031274' 'enr_020372' 'enr_028267']\n",
      " ['model_00001' 6 'enr_007194' 'enr_033141' 'enr_004688']\n",
      " ['model_00002' 2 'enr_036941' 'enr_001239' 'enr_031894']\n",
      " ...\n",
      " ['model_12401' 7 'enr_000006' 'enr_031386' 'enr_021080']\n",
      " ['model_12402' 6 'enr_022040' 'enr_011842' 'enr_013099']\n",
      " ['model_12403' 3 'enr_008557' 'enr_011187' 'enr_011841']]\n"
     ]
    }
   ],
   "source": [
    "model_enrollment = pd.read_csv(\"../docs/model_enrollment.txt\", sep=' ', index_col=None, delimiter=None)\n",
    "print(model_enrollment)\n",
    "\n",
    "type(model_enrollment)\n",
    "\n",
    "model_enrollment = model_enrollment.to_numpy()\n",
    "print(model_enrollment)"
   ]
  },
  {
   "cell_type": "code",
   "execution_count": 34,
   "metadata": {},
   "outputs": [
    {
     "name": "stdout",
     "output_type": "stream",
     "text": [
      "(12404, 5)\n"
     ]
    }
   ],
   "source": [
    "print(model_enrollment.shape)"
   ]
  },
  {
   "cell_type": "code",
   "execution_count": 35,
   "metadata": {},
   "outputs": [
    {
     "name": "stdout",
     "output_type": "stream",
     "text": [
      "       train-file-id  speaker-id  phrase-id\n",
      "0         trn_000001  spk_000018          9\n",
      "1         trn_000002  spk_000018          9\n",
      "2         trn_000003  spk_000018          9\n",
      "3         trn_000004  spk_000018          9\n",
      "4         trn_000005  spk_000018          9\n",
      "...              ...         ...        ...\n",
      "101058    trn_101059  spk_000438         10\n",
      "101059    trn_101060  spk_000438         10\n",
      "101060    trn_101061  spk_000438         10\n",
      "101061    trn_101062  spk_000438         10\n",
      "101062    trn_101063  spk_000438         10\n",
      "\n",
      "[101063 rows x 3 columns]\n",
      "[['trn_000001' 'spk_000018' 9]\n",
      " ['trn_000002' 'spk_000018' 9]\n",
      " ['trn_000003' 'spk_000018' 9]\n",
      " ...\n",
      " ['trn_101061' 'spk_000438' 10]\n",
      " ['trn_101062' 'spk_000438' 10]\n",
      " ['trn_101063' 'spk_000438' 10]]\n"
     ]
    }
   ],
   "source": [
    "train_labels = pd.read_csv(\"../docs/train_labels.txt\", sep=' ', index_col=None, delimiter=None)\n",
    "print(train_labels)\n",
    "\n",
    "type(train_labels)\n",
    "\n",
    "train_labels = train_labels.to_numpy()\n",
    "print(train_labels)"
   ]
  },
  {
   "cell_type": "code",
   "execution_count": 37,
   "metadata": {},
   "outputs": [
    {
     "name": "stdout",
     "output_type": "stream",
     "text": [
      "            model-id evaluation-file-id\n",
      "0        model_00000         evl_000063\n",
      "1        model_00000         evl_000395\n",
      "2        model_00000         evl_000573\n",
      "3        model_00000         evl_000673\n",
      "4        model_00000         evl_001213\n",
      "...              ...                ...\n",
      "8306695  model_12403         evl_068636\n",
      "8306696  model_12403         evl_068651\n",
      "8306697  model_12403         evl_068707\n",
      "8306698  model_12403         evl_068856\n",
      "8306699  model_12403         evl_069325\n",
      "\n",
      "[8306700 rows x 2 columns]\n",
      "[['model_00000' 'evl_000063']\n",
      " ['model_00000' 'evl_000395']\n",
      " ['model_00000' 'evl_000573']\n",
      " ...\n",
      " ['model_12403' 'evl_068707']\n",
      " ['model_12403' 'evl_068856']\n",
      " ['model_12403' 'evl_069325']]\n"
     ]
    }
   ],
   "source": [
    "trials = pd.read_csv(\"../docs/trials.txt\", sep=' ', index_col=None, delimiter=None)\n",
    "print(trials)\n",
    "\n",
    "type(trials)\n",
    "\n",
    "trials = trials.to_numpy()\n",
    "print(trials)"
   ]
  }
 ],
 "metadata": {
  "kernelspec": {
   "display_name": "Python 3",
   "language": "python",
   "name": "python3"
  },
  "language_info": {
   "codemirror_mode": {
    "name": "ipython",
    "version": 3
   },
   "file_extension": ".py",
   "mimetype": "text/x-python",
   "name": "python",
   "nbconvert_exporter": "python",
   "pygments_lexer": "ipython3",
   "version": "3.6.8"
  }
 },
 "nbformat": 4,
 "nbformat_minor": 4
}
